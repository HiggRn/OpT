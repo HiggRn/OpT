{
 "cells": [
  {
   "cell_type": "code",
   "execution_count": 1,
   "id": "54631faa-4aab-46d2-bbc7-ae9b41f6bf9d",
   "metadata": {},
   "outputs": [],
   "source": [
    "import numpy as np\n",
    "from functools import partial"
   ]
  },
  {
   "cell_type": "code",
   "execution_count": 2,
   "id": "fb1772fd-8d04-4165-bd34-c82cce2acf3f",
   "metadata": {},
   "outputs": [],
   "source": [
    "# 随机生成 D 个长度为 N 的时间序列，用于测试\n",
    "def gen_rand_data(D, N, mean=1000, std=5, seed=None): \n",
    "    if seed is not None:\n",
    "        np.random.seed(seed)\n",
    "    data = np.random.normal(loc=mean, scale=std, size=(D, N))\n",
    "    return data\n",
    "\n",
    "# 从时间序列获得漂移率、波动率、相关系数\n",
    "def get_parameters(data, dt=1.0):\n",
    "    ret_data = data[:,1:]/data[:,:-1]-1\n",
    "    mu = np.mean(ret_data, axis=1)/dt\n",
    "    sigma = np.std(ret_data, axis=1, ddof=1)/dt\n",
    "    rho = np.corrcoef(ret_data)\n",
    "    return mu, sigma, rho\n",
    "\n",
    "def max_call_option(S, K):\n",
    "    return max(np.max(S)-K,0)"
   ]
  },
  {
   "cell_type": "code",
   "execution_count": 3,
   "id": "a619ee89-b0a9-4bf8-814b-36b97b17e359",
   "metadata": {},
   "outputs": [],
   "source": [
    "import yfinance as yf\n",
    "\n",
    "tickers_train = ['MSFT', 'GOOGL', 'AMZN', 'AAPL']\n",
    "start_date, end_date = \"2018-01-01\", \"2023-12-31\"\n",
    "stock_data_train = []\n",
    "for ticker in tickers_train:\n",
    "    ticker_data = yf.Ticker(ticker).history(start=start_date, end=end_date)['Close']\n",
    "    ticker_data = ticker_data/np.mean(ticker_data)*1000\n",
    "    stock_data_train.append(ticker_data)\n",
    "stock_data_train = np.array(stock_data_train)\n",
    "D = stock_data_train.shape[0]\n",
    "T, N, M = 1.0, 1000, 10000\n",
    "dt = T/N\n",
    "\n",
    "s0 = stock_data_train[:,0]\n",
    "mu, sigma, rho = get_parameters(stock_data_train, dt)\n",
    "r = 0.04\n",
    "option_func = partial(max_call_option, K = 1000)"
   ]
  },
  {
   "cell_type": "markdown",
   "id": "722b5c8d",
   "metadata": {},
   "source": [
    "用真实的股票数据来构造max option："
   ]
  },
  {
   "cell_type": "code",
   "execution_count": 4,
   "id": "a80aa45b-03f5-460c-bcb5-259c40ff9d1c",
   "metadata": {},
   "outputs": [],
   "source": [
    "import numpy as np\n",
    "import torch\n",
    "from scipy.stats import random_correlation\n",
    "from torch import nn, optim\n",
    "\n",
    "from delta_hedge import run_once, set_seed\n",
    "from transformer.model_percentiles import OptionTransformer\n",
    "\n",
    "\n",
    "def train_real(option, r, config, num_run, real_S, mu, sigma, rho):\n",
    "    set_seed()\n",
    "\n",
    "    # Monte Carlo config\n",
    "    D = config[\"n_assets\"]\n",
    "    M = config[\"n_mcmc\"]\n",
    "    N = config[\"n_timesteps\"]\n",
    "\n",
    "    # Model config\n",
    "    d_model = config[\"d_model\"]\n",
    "    n_layers = config[\"n_layers\"]\n",
    "    n_head = config[\"n_head\"]\n",
    "    dropout = config[\"dropout\"]\n",
    "\n",
    "    model = OptionTransformer(d_model, n_layers, n_head, D, M, dropout).to(config[\"device\"])\n",
    "\n",
    "    optimizer = optim.Adam(model.parameters(), lr=config[\"lr\"])\n",
    "\n",
    "    real_S = torch.tensor(real_S).float().to(config[\"device\"])\n",
    "\n",
    "    for n in range(num_run):\n",
    "        T = 1.0  # the absolute value for `T` is really unnecessary for us\n",
    "\n",
    "        # run once till the maturity, give back the premium\n",
    "        alpha = run_once(model, option, real_S, mu, sigma, rho, T, N, M, r)\n",
    "        print(f\"Trial {n}--Premium:{alpha:6f}\")\n",
    "\n",
    "        # compute loss\n",
    "        criterion = nn.MSELoss().to(config[\"device\"])\n",
    "        loss = criterion(alpha, torch.tensor(0.0))\n",
    "\n",
    "        # optimize model\n",
    "        optimizer.zero_grad()\n",
    "        loss.backward()\n",
    "        optimizer.step()\n",
    "    "
   ]
  },
  {
   "cell_type": "code",
   "execution_count": 5,
   "id": "a63f937a",
   "metadata": {},
   "outputs": [
    {
     "name": "stderr",
     "output_type": "stream",
     "text": [
      "d:\\anaconda3\\envs\\pydml\\lib\\site-packages\\numpy\\lib\\shape_base.py:402: RuntimeWarning: invalid value encountered in cast\n",
      "  buff[ind] = asanyarray(func1d(inarr_view[ind], *args, **kwargs))\n"
     ]
    },
    {
     "name": "stdout",
     "output_type": "stream",
     "text": [
      "Sample 100 is added.\n",
      "Dataset built.\n",
      "Trial 0--Premium:-0.040000\n",
      "Sample 100 is added.\n",
      "Dataset built.\n",
      "Trial 1--Premium:-0.040000\n",
      "Sample 100 is added.\n",
      "Dataset built.\n",
      "Trial 2--Premium:-0.040000\n",
      "Sample 100 is added.\n",
      "Dataset built.\n",
      "Trial 3--Premium:-0.040000\n",
      "Sample 100 is added.\n",
      "Dataset built.\n",
      "Trial 4--Premium:-0.040000\n",
      "Sample 100 is added.\n",
      "Dataset built.\n",
      "Trial 5--Premium:-0.040000\n",
      "Sample 100 is added.\n",
      "Dataset built.\n",
      "Trial 6--Premium:-0.040000\n",
      "Sample 100 is added.\n",
      "Dataset built.\n",
      "Trial 7--Premium:-0.040000\n",
      "Sample 100 is added.\n",
      "Dataset built.\n",
      "Trial 8--Premium:-0.040000\n",
      "Sample 100 is added.\n",
      "Dataset built.\n",
      "Trial 9--Premium:-0.040000\n"
     ]
    }
   ],
   "source": [
    "config = {\n",
    "    \"n_assets\": 4,\n",
    "    \"n_mcmc\": 100,\n",
    "    \"n_timesteps\": 100,\n",
    "    \"d_model\": 20,\n",
    "    \"n_layers\": 5,\n",
    "    \"n_head\": 10,\n",
    "    \"dropout\": 0.1,\n",
    "    \"lr\": 1e-3,\n",
    "    \"num_run\": 10,\n",
    "    \"device\": torch.device(\"cuda\" if torch.cuda.is_available() else \"cpu\")\n",
    "}\n",
    "\n",
    "train_real(option_func, r, config, config[\"num_run\"], stock_data_train, mu, sigma, rho)"
   ]
  },
  {
   "cell_type": "markdown",
   "id": "54362e92",
   "metadata": {},
   "source": [
    "测试："
   ]
  },
  {
   "cell_type": "code",
   "execution_count": 6,
   "id": "1ff41540",
   "metadata": {},
   "outputs": [],
   "source": [
    "tickers_eval = ['DELL', 'TSLA', 'QQQ', 'NET']\n",
    "start_date, end_date = \"2018-01-01\", \"2023-12-31\"\n",
    "stock_data_eval = []\n",
    "for ticker in tickers_train:\n",
    "    ticker_data = yf.Ticker(ticker).history(start=start_date, end=end_date)['Close']\n",
    "    ticker_data = ticker_data/np.mean(ticker_data)*1000\n",
    "    stock_data_eval.append(ticker_data)\n",
    "stock_data_eval = np.array(stock_data_eval)\n",
    "D = stock_data_eval.shape[0]\n",
    "T, N, M = 1.0, 1000, 10000\n",
    "dt = T/N\n",
    "\n",
    "s0 = stock_data_eval[:,-1]\n",
    "mu, sigma, rho = get_parameters(stock_data_eval, dt)\n",
    "r = 0.04\n",
    "option_func = partial(max_call_option, K = 1234)"
   ]
  }
 ],
 "metadata": {
  "kernelspec": {
   "display_name": "Python 3 (ipykernel)",
   "language": "python",
   "name": "python3"
  },
  "language_info": {
   "codemirror_mode": {
    "name": "ipython",
    "version": 3
   },
   "file_extension": ".py",
   "mimetype": "text/x-python",
   "name": "python",
   "nbconvert_exporter": "python",
   "pygments_lexer": "ipython3",
   "version": "3.9.18"
  }
 },
 "nbformat": 4,
 "nbformat_minor": 5
}
